{
 "cells": [
  {
   "cell_type": "code",
   "execution_count": 12,
   "outputs": [],
   "source": [
    "from mlxtend.data import iris_data\n",
    "from mlxtend.preprocessing import standardize\n",
    "from mlxtend.feature_extraction import LinearDiscriminantAnalysis"
   ],
   "metadata": {
    "collapsed": false,
    "pycharm": {
     "name": "#%%\n"
    }
   }
  },
  {
   "cell_type": "code",
   "execution_count": 13,
   "outputs": [
    {
     "data": {
      "text/plain": "array([[5.1, 3.5, 1.4, 0.2],\n       [4.9, 3. , 1.4, 0.2],\n       [4.7, 3.2, 1.3, 0.2],\n       [4.6, 3.1, 1.5, 0.2],\n       [5. , 3.6, 1.4, 0.2],\n       [5.4, 3.9, 1.7, 0.4],\n       [4.6, 3.4, 1.4, 0.3],\n       [5. , 3.4, 1.5, 0.2],\n       [4.4, 2.9, 1.4, 0.2],\n       [4.9, 3.1, 1.5, 0.1]])"
     },
     "execution_count": 13,
     "metadata": {},
     "output_type": "execute_result"
    }
   ],
   "source": [
    "X, y = iris_data()\n",
    "X[:10]"
   ],
   "metadata": {
    "collapsed": false,
    "pycharm": {
     "name": "#%%\n"
    }
   }
  },
  {
   "cell_type": "code",
   "execution_count": 14,
   "outputs": [
    {
     "data": {
      "text/plain": "array([[-0.90068117,  1.03205722, -1.3412724 , -1.31297673],\n       [-1.14301691, -0.1249576 , -1.3412724 , -1.31297673],\n       [-1.38535265,  0.33784833, -1.39813811, -1.31297673],\n       [-1.50652052,  0.10644536, -1.2844067 , -1.31297673],\n       [-1.02184904,  1.26346019, -1.3412724 , -1.31297673],\n       [-0.53717756,  1.95766909, -1.17067529, -1.05003079],\n       [-1.50652052,  0.80065426, -1.3412724 , -1.18150376],\n       [-1.02184904,  0.80065426, -1.2844067 , -1.31297673],\n       [-1.74885626, -0.35636057, -1.3412724 , -1.31297673],\n       [-1.14301691,  0.10644536, -1.2844067 , -1.4444497 ]])"
     },
     "execution_count": 14,
     "metadata": {},
     "output_type": "execute_result"
    }
   ],
   "source": [
    "X = standardize(X)\n",
    "X[:10]"
   ],
   "metadata": {
    "collapsed": false,
    "pycharm": {
     "name": "#%%\n"
    }
   }
  },
  {
   "cell_type": "code",
   "execution_count": 15,
   "outputs": [],
   "source": [
    "lda = LinearDiscriminantAnalysis(n_discriminants=2)\n",
    "lda.fit(X, y)\n",
    "X_lda = lda.transform(X)"
   ],
   "metadata": {
    "collapsed": false,
    "pycharm": {
     "name": "#%%\n"
    }
   }
  },
  {
   "cell_type": "code",
   "execution_count": 16,
   "outputs": [
    {
     "data": {
      "text/plain": "array([[-1.78399213, -0.02138789],\n       [-1.56599117, -0.39039612],\n       [-1.65167828, -0.21283157],\n       [-1.49902607, -0.34511877],\n       [-1.80228426,  0.05273823],\n       [-1.71663551,  0.39464792],\n       [-1.59735842,  0.01042189],\n       [-1.68044277, -0.12436278],\n       [-1.43923591, -0.46313164],\n       [-1.61313608, -0.45035938]])"
     },
     "execution_count": 16,
     "metadata": {},
     "output_type": "execute_result"
    }
   ],
   "source": [
    "X_lda[:10]"
   ],
   "metadata": {
    "collapsed": false,
    "pycharm": {
     "name": "#%%\n"
    }
   }
  }
 ],
 "metadata": {
  "kernelspec": {
   "display_name": "Python 3",
   "language": "python",
   "name": "python3"
  },
  "language_info": {
   "codemirror_mode": {
    "name": "ipython",
    "version": 2
   },
   "file_extension": ".py",
   "mimetype": "text/x-python",
   "name": "python",
   "nbconvert_exporter": "python",
   "pygments_lexer": "ipython2",
   "version": "2.7.6"
  }
 },
 "nbformat": 4,
 "nbformat_minor": 0
}